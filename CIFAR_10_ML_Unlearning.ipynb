{
  "nbformat": 4,
  "nbformat_minor": 0,
  "metadata": {
    "colab": {
      "provenance": [],
      "authorship_tag": "ABX9TyN1QAPUdntt0xwY5KGxUtMi",
      "include_colab_link": true
    },
    "kernelspec": {
      "name": "python3",
      "display_name": "Python 3"
    },
    "language_info": {
      "name": "python"
    }
  },
  "cells": [
    {
      "cell_type": "markdown",
      "metadata": {
        "id": "view-in-github",
        "colab_type": "text"
      },
      "source": [
        "<a href=\"https://colab.research.google.com/github/sidharthworks/chat/blob/master/CIFAR_10_ML_Unlearning.ipynb\" target=\"_parent\"><img src=\"https://colab.research.google.com/assets/colab-badge.svg\" alt=\"Open In Colab\"/></a>"
      ]
    },
    {
      "cell_type": "code",
      "source": [
        "!nvidia-smi\n",
        "!pip install torch torchvision matplotlib scikit-learn\n"
      ],
      "metadata": {
        "colab": {
          "base_uri": "https://localhost:8080/"
        },
        "id": "chMKxF3X7VSk",
        "outputId": "91f7e637-f716-421d-ab6e-08ea116e4502"
      },
      "execution_count": null,
      "outputs": [
        {
          "output_type": "stream",
          "name": "stdout",
          "text": [
            "/bin/bash: line 1: nvidia-smi: command not found\n",
            "Requirement already satisfied: torch in /usr/local/lib/python3.12/dist-packages (2.8.0+cu126)\n",
            "Requirement already satisfied: torchvision in /usr/local/lib/python3.12/dist-packages (0.23.0+cu126)\n",
            "Requirement already satisfied: matplotlib in /usr/local/lib/python3.12/dist-packages (3.10.0)\n",
            "Requirement already satisfied: scikit-learn in /usr/local/lib/python3.12/dist-packages (1.6.1)\n",
            "Requirement already satisfied: filelock in /usr/local/lib/python3.12/dist-packages (from torch) (3.19.1)\n",
            "Requirement already satisfied: typing-extensions>=4.10.0 in /usr/local/lib/python3.12/dist-packages (from torch) (4.15.0)\n",
            "Requirement already satisfied: setuptools in /usr/local/lib/python3.12/dist-packages (from torch) (75.2.0)\n",
            "Requirement already satisfied: sympy>=1.13.3 in /usr/local/lib/python3.12/dist-packages (from torch) (1.13.3)\n",
            "Requirement already satisfied: networkx in /usr/local/lib/python3.12/dist-packages (from torch) (3.5)\n",
            "Requirement already satisfied: jinja2 in /usr/local/lib/python3.12/dist-packages (from torch) (3.1.6)\n",
            "Requirement already satisfied: fsspec in /usr/local/lib/python3.12/dist-packages (from torch) (2025.3.0)\n",
            "Requirement already satisfied: nvidia-cuda-nvrtc-cu12==12.6.77 in /usr/local/lib/python3.12/dist-packages (from torch) (12.6.77)\n",
            "Requirement already satisfied: nvidia-cuda-runtime-cu12==12.6.77 in /usr/local/lib/python3.12/dist-packages (from torch) (12.6.77)\n",
            "Requirement already satisfied: nvidia-cuda-cupti-cu12==12.6.80 in /usr/local/lib/python3.12/dist-packages (from torch) (12.6.80)\n",
            "Requirement already satisfied: nvidia-cudnn-cu12==9.10.2.21 in /usr/local/lib/python3.12/dist-packages (from torch) (9.10.2.21)\n",
            "Requirement already satisfied: nvidia-cublas-cu12==12.6.4.1 in /usr/local/lib/python3.12/dist-packages (from torch) (12.6.4.1)\n",
            "Requirement already satisfied: nvidia-cufft-cu12==11.3.0.4 in /usr/local/lib/python3.12/dist-packages (from torch) (11.3.0.4)\n",
            "Requirement already satisfied: nvidia-curand-cu12==10.3.7.77 in /usr/local/lib/python3.12/dist-packages (from torch) (10.3.7.77)\n",
            "Requirement already satisfied: nvidia-cusolver-cu12==11.7.1.2 in /usr/local/lib/python3.12/dist-packages (from torch) (11.7.1.2)\n",
            "Requirement already satisfied: nvidia-cusparse-cu12==12.5.4.2 in /usr/local/lib/python3.12/dist-packages (from torch) (12.5.4.2)\n",
            "Requirement already satisfied: nvidia-cusparselt-cu12==0.7.1 in /usr/local/lib/python3.12/dist-packages (from torch) (0.7.1)\n",
            "Requirement already satisfied: nvidia-nccl-cu12==2.27.3 in /usr/local/lib/python3.12/dist-packages (from torch) (2.27.3)\n",
            "Requirement already satisfied: nvidia-nvtx-cu12==12.6.77 in /usr/local/lib/python3.12/dist-packages (from torch) (12.6.77)\n",
            "Requirement already satisfied: nvidia-nvjitlink-cu12==12.6.85 in /usr/local/lib/python3.12/dist-packages (from torch) (12.6.85)\n",
            "Requirement already satisfied: nvidia-cufile-cu12==1.11.1.6 in /usr/local/lib/python3.12/dist-packages (from torch) (1.11.1.6)\n",
            "Requirement already satisfied: triton==3.4.0 in /usr/local/lib/python3.12/dist-packages (from torch) (3.4.0)\n",
            "Requirement already satisfied: numpy in /usr/local/lib/python3.12/dist-packages (from torchvision) (2.0.2)\n",
            "Requirement already satisfied: pillow!=8.3.*,>=5.3.0 in /usr/local/lib/python3.12/dist-packages (from torchvision) (11.3.0)\n",
            "Requirement already satisfied: contourpy>=1.0.1 in /usr/local/lib/python3.12/dist-packages (from matplotlib) (1.3.3)\n",
            "Requirement already satisfied: cycler>=0.10 in /usr/local/lib/python3.12/dist-packages (from matplotlib) (0.12.1)\n",
            "Requirement already satisfied: fonttools>=4.22.0 in /usr/local/lib/python3.12/dist-packages (from matplotlib) (4.59.2)\n",
            "Requirement already satisfied: kiwisolver>=1.3.1 in /usr/local/lib/python3.12/dist-packages (from matplotlib) (1.4.9)\n",
            "Requirement already satisfied: packaging>=20.0 in /usr/local/lib/python3.12/dist-packages (from matplotlib) (25.0)\n",
            "Requirement already satisfied: pyparsing>=2.3.1 in /usr/local/lib/python3.12/dist-packages (from matplotlib) (3.2.3)\n",
            "Requirement already satisfied: python-dateutil>=2.7 in /usr/local/lib/python3.12/dist-packages (from matplotlib) (2.9.0.post0)\n",
            "Requirement already satisfied: scipy>=1.6.0 in /usr/local/lib/python3.12/dist-packages (from scikit-learn) (1.16.1)\n",
            "Requirement already satisfied: joblib>=1.2.0 in /usr/local/lib/python3.12/dist-packages (from scikit-learn) (1.5.2)\n",
            "Requirement already satisfied: threadpoolctl>=3.1.0 in /usr/local/lib/python3.12/dist-packages (from scikit-learn) (3.6.0)\n",
            "Requirement already satisfied: six>=1.5 in /usr/local/lib/python3.12/dist-packages (from python-dateutil>=2.7->matplotlib) (1.17.0)\n",
            "Requirement already satisfied: mpmath<1.4,>=1.1.0 in /usr/local/lib/python3.12/dist-packages (from sympy>=1.13.3->torch) (1.3.0)\n",
            "Requirement already satisfied: MarkupSafe>=2.0 in /usr/local/lib/python3.12/dist-packages (from jinja2->torch) (3.0.2)\n"
          ]
        }
      ]
    },
    {
      "cell_type": "code",
      "source": [
        "import os, pickle, random\n",
        "import numpy as np\n",
        "import torch\n",
        "import torch.nn as nn\n",
        "import torch.nn.functional as F\n",
        "import torch.optim as optim\n",
        "from torch.utils.data import Dataset, DataLoader\n",
        "from sklearn.metrics import precision_recall_fscore_support\n",
        "import matplotlib.pyplot as plt\n"
      ],
      "metadata": {
        "id": "OMPIxrl-Oi1H"
      },
      "execution_count": null,
      "outputs": []
    },
    {
      "cell_type": "code",
      "source": [
        "# Download CIFAR-10 python version\n",
        "!wget https://www.cs.toronto.edu/~kriz/cifar-10-python.tar.gz -O cifar-10-python.tar.gz\n",
        "!tar -xvzf cifar-10-python.tar.gz\n",
        "!ls cifar-10-batches-py\n"
      ],
      "metadata": {
        "colab": {
          "base_uri": "https://localhost:8080/"
        },
        "id": "yc-4weesOnht",
        "outputId": "72a6d552-9e9d-49f5-b83d-050299701579"
      },
      "execution_count": null,
      "outputs": [
        {
          "output_type": "stream",
          "name": "stdout",
          "text": [
            "--2025-09-05 04:55:20--  https://www.cs.toronto.edu/~kriz/cifar-10-python.tar.gz\n",
            "Resolving www.cs.toronto.edu (www.cs.toronto.edu)... 128.100.3.30\n",
            "Connecting to www.cs.toronto.edu (www.cs.toronto.edu)|128.100.3.30|:443... connected.\n",
            "HTTP request sent, awaiting response... 200 OK\n",
            "Length: 170498071 (163M) [application/x-gzip]\n",
            "Saving to: ‘cifar-10-python.tar.gz’\n",
            "\n",
            "cifar-10-python.tar 100%[===================>] 162.60M  52.5MB/s    in 3.3s    \n",
            "\n",
            "2025-09-05 04:55:24 (49.8 MB/s) - ‘cifar-10-python.tar.gz’ saved [170498071/170498071]\n",
            "\n",
            "cifar-10-batches-py/\n",
            "cifar-10-batches-py/data_batch_4\n",
            "cifar-10-batches-py/readme.html\n",
            "cifar-10-batches-py/test_batch\n",
            "cifar-10-batches-py/data_batch_3\n",
            "cifar-10-batches-py/batches.meta\n",
            "cifar-10-batches-py/data_batch_2\n",
            "cifar-10-batches-py/data_batch_5\n",
            "cifar-10-batches-py/data_batch_1\n",
            "batches.meta  data_batch_2  data_batch_4  readme.html\n",
            "data_batch_1  data_batch_3  data_batch_5  test_batch\n"
          ]
        }
      ]
    },
    {
      "cell_type": "code",
      "source": [
        "root = \"/content/cifar-10-batches-py\"\n",
        "\n",
        "class CIFAR10Pickle(Dataset):\n",
        "    def __init__(self, root, train=True, poison_mode=None, poison_rate=0.0,\n",
        "                 flip_from=2, flip_to=7, backdoor_target=2, trigger_size=4, trigger_value=255):\n",
        "        self.train = train\n",
        "        self.data, self.labels = [], []\n",
        "        if train:\n",
        "            files = [f\"data_batch_{i}\" for i in range(1, 6)]\n",
        "        else:\n",
        "            files = [\"test_batch\"]\n",
        "\n",
        "        for f in files:\n",
        "            with open(os.path.join(root, f), 'rb') as fo:\n",
        "                d = pickle.load(fo, encoding='bytes')\n",
        "            self.data.append(d[b'data'])\n",
        "            self.labels.extend(d[b'labels'])\n",
        "        self.data = np.vstack(self.data).reshape(-1, 3, 32, 32).astype(\"uint8\")\n",
        "        self.labels = np.array(self.labels)\n",
        "\n",
        "        # Track poisoned samples\n",
        "        self.poisoned_idx = []\n",
        "        if poison_mode == \"labelflip\":\n",
        "            n_poison = int(len(self.labels) * poison_rate)\n",
        "            candidates = np.where(self.labels == flip_from)[0]\n",
        "            selected = np.random.choice(candidates, n_poison, replace=False)\n",
        "            self.labels[selected] = flip_to\n",
        "            self.poisoned_idx = selected.tolist()\n",
        "        elif poison_mode == \"backdoor\":\n",
        "            n_poison = int(len(self.labels) * poison_rate)\n",
        "            selected = np.random.choice(len(self.labels), n_poison, replace=False)\n",
        "            for idx in selected:\n",
        "                img = self.data[idx]\n",
        "                img[:, -trigger_size:, -trigger_size:] = trigger_value\n",
        "                self.labels[idx] = backdoor_target\n",
        "            self.poisoned_idx = selected.tolist()\n",
        "\n",
        "    def __len__(self):\n",
        "        return len(self.labels)\n",
        "\n",
        "    def __getitem__(self, idx):\n",
        "        x = self.data[idx].astype(np.float32) / 255.0\n",
        "        y = self.labels[idx]\n",
        "        return torch.tensor(x), y\n"
      ],
      "metadata": {
        "id": "EwXeMGFsOqDQ"
      },
      "execution_count": null,
      "outputs": []
    },
    {
      "cell_type": "code",
      "source": [
        "class SimpleCNN(nn.Module):\n",
        "    def __init__(self):\n",
        "        super().__init__()\n",
        "        self.conv1 = nn.Conv2d(3, 32, 3, padding=1)\n",
        "        self.conv2 = nn.Conv2d(32, 64, 3, padding=1)\n",
        "        self.pool = nn.MaxPool2d(2,2)\n",
        "        self.fc1 = nn.Linear(64*16*16, 256)  # 32x32 -> pool -> 16x16\n",
        "        self.fc2 = nn.Linear(256, 10)\n",
        "\n",
        "    def forward(self, x):\n",
        "        x = F.relu(self.conv1(x))\n",
        "        x = self.pool(F.relu(self.conv2(x)))\n",
        "        x = x.view(x.size(0), -1)\n",
        "        x = F.relu(self.fc1(x))\n",
        "        return self.fc2(x)\n"
      ],
      "metadata": {
        "id": "Pp3t4gsROuE8"
      },
      "execution_count": null,
      "outputs": []
    },
    {
      "cell_type": "code",
      "source": [
        "def train_model(model, loader, optimizer, epochs=10, device=\"cuda\"):\n",
        "    criterion = nn.CrossEntropyLoss()\n",
        "    model.to(device)\n",
        "    for epoch in range(epochs):\n",
        "        model.train()\n",
        "        total_loss = 0\n",
        "        for x,y in loader:\n",
        "            x,y = x.to(device), y.to(device)\n",
        "            optimizer.zero_grad()\n",
        "            out = model(x)\n",
        "            loss = criterion(out, y)\n",
        "            loss.backward()\n",
        "            optimizer.step()\n",
        "            total_loss += loss.item()\n",
        "        print(f\"Epoch {epoch+1}, Loss {total_loss/len(loader):.4f}\")\n",
        "\n",
        "def evaluate(model, loader, device=\"cuda\"):\n",
        "    model.eval()\n",
        "    correct, total = 0, 0\n",
        "    with torch.no_grad():\n",
        "        for x,y in loader:\n",
        "            x,y = x.to(device), y.to(device)\n",
        "            preds = model(x).argmax(1)\n",
        "            correct += (preds==y).sum().item()\n",
        "            total += y.size(0)\n",
        "    return correct/total\n"
      ],
      "metadata": {
        "id": "0Q4gzMOTOw-1"
      },
      "execution_count": null,
      "outputs": []
    },
    {
      "cell_type": "code",
      "source": [
        "device = \"cuda\" if torch.cuda.is_available() else \"cpu\"\n",
        "\n",
        "# Poison training data: 5% label flips (class 2=bird → class 7=horse)\n",
        "trainset = CIFAR10Pickle(root, train=True, poison_mode=\"labelflip\", poison_rate=0.05, flip_from=2, flip_to=7)\n",
        "testset = CIFAR10Pickle(root, train=False)\n",
        "\n",
        "trainloader = DataLoader(trainset, batch_size=128, shuffle=True)\n",
        "testloader = DataLoader(testset, batch_size=128, shuffle=False)\n",
        "\n",
        "print(f\"Training set size: {len(trainset)}\")\n",
        "print(f\"Poisoned samples: {len(trainset.poisoned_idx)}\")\n",
        "print(f\"Test set size: {len(testset)}\")\n"
      ],
      "metadata": {
        "colab": {
          "base_uri": "https://localhost:8080/"
        },
        "id": "XHVSB-qPOy2k",
        "outputId": "2adcba13-b1b6-47c7-bf8e-b6b6d3990975"
      },
      "execution_count": null,
      "outputs": [
        {
          "output_type": "stream",
          "name": "stdout",
          "text": [
            "Training set size: 50000\n",
            "Poisoned samples: 2500\n",
            "Test set size: 10000\n"
          ]
        }
      ]
    },
    {
      "cell_type": "code",
      "source": [
        "model = SimpleCNN()\n",
        "opt = optim.Adam(model.parameters(), lr=1e-3)\n",
        "\n",
        "print(\"Training poisoned model...\")\n",
        "train_model(model, trainloader, opt, epochs=10, device=device)\n",
        "\n",
        "acc = evaluate(model, testloader, device)\n",
        "print(f\"Test accuracy before mitigation: {acc:.4f}\")\n"
      ],
      "metadata": {
        "colab": {
          "base_uri": "https://localhost:8080/"
        },
        "id": "AZuarZjIO1SH",
        "outputId": "dd731998-fc20-47f5-d732-7fc80833bcbb"
      },
      "execution_count": null,
      "outputs": [
        {
          "output_type": "stream",
          "name": "stdout",
          "text": [
            "Training poisoned model...\n",
            "Epoch 1, Loss 1.4703\n",
            "Epoch 2, Loss 1.0754\n",
            "Epoch 3, Loss 0.9015\n",
            "Epoch 4, Loss 0.7721\n",
            "Epoch 5, Loss 0.6509\n",
            "Epoch 6, Loss 0.5321\n",
            "Epoch 7, Loss 0.4194\n",
            "Epoch 8, Loss 0.3145\n",
            "Epoch 9, Loss 0.2197\n",
            "Epoch 10, Loss 0.1519\n",
            "Test accuracy before mitigation: 0.6526\n"
          ]
        }
      ]
    },
    {
      "cell_type": "code",
      "source": [
        "def train_model(model, loader, optimizer, epochs=10, device=\"cuda\"):\n",
        "    criterion = nn.CrossEntropyLoss()\n",
        "    model.to(device)\n",
        "    for epoch in range(epochs):\n",
        "        model.train()\n",
        "        total_loss = 0\n",
        "        for x,y in loader:\n",
        "            x,y = x.to(device), y.to(device)\n",
        "            optimizer.zero_grad()\n",
        "            out = model(x)\n",
        "            loss = criterion(out, y)\n",
        "            loss.backward()\n",
        "            optimizer.step()\n",
        "            total_loss += loss.item()\n",
        "        print(f\"Epoch {epoch+1}, Loss {total_loss/len(loader):.4f}\")\n",
        "\n",
        "def evaluate(model, loader, device=\"cuda\"):\n",
        "    model.eval()\n",
        "    correct, total = 0, 0\n",
        "    with torch.no_grad():\n",
        "        for x,y in loader:\n",
        "            x,y = x.to(device), y.to(device)\n",
        "            preds = model(x).argmax(1)\n",
        "            correct += (preds==y).sum().item()\n",
        "            total += y.size(0)\n",
        "    return correct/total\n"
      ],
      "metadata": {
        "id": "oZ8DN-5GO4iQ"
      },
      "execution_count": null,
      "outputs": []
    },
    {
      "cell_type": "code",
      "source": [
        "device = \"cuda\" if torch.cuda.is_available() else \"cpu\"\n",
        "\n",
        "# Poison training data: 5% label flips (class 2=bird → class 7=horse)\n",
        "trainset = CIFAR10Pickle(root, train=True, poison_mode=\"labelflip\", poison_rate=0.05, flip_from=2, flip_to=7)\n",
        "testset = CIFAR10Pickle(root, train=False)\n",
        "\n",
        "trainloader = DataLoader(trainset, batch_size=128, shuffle=True)\n",
        "testloader = DataLoader(testset, batch_size=128, shuffle=False)\n",
        "\n",
        "print(f\"Training set size: {len(trainset)}\")\n",
        "print(f\"Poisoned samples: {len(trainset.poisoned_idx)}\")\n",
        "print(f\"Test set size: {len(testset)}\")\n"
      ],
      "metadata": {
        "colab": {
          "base_uri": "https://localhost:8080/"
        },
        "id": "UvhmBFM_ZmZi",
        "outputId": "d6d0b47c-456d-4578-9145-7e0db29fd19e"
      },
      "execution_count": null,
      "outputs": [
        {
          "output_type": "stream",
          "name": "stdout",
          "text": [
            "Training set size: 50000\n",
            "Poisoned samples: 2500\n",
            "Test set size: 10000\n"
          ]
        }
      ]
    },
    {
      "cell_type": "code",
      "source": [
        "model = SimpleCNN()\n",
        "opt = optim.Adam(model.parameters(), lr=1e-3)\n",
        "\n",
        "print(\"Training poisoned model...\")\n",
        "train_model(model, trainloader, opt, epochs=10, device=device)\n",
        "\n",
        "acc = evaluate(model, testloader, device)\n",
        "print(f\"Test accuracy before mitigation: {acc:.4f}\")\n"
      ],
      "metadata": {
        "colab": {
          "base_uri": "https://localhost:8080/"
        },
        "id": "3uzVsiWPZoSr",
        "outputId": "2d7f272e-b630-4bb0-fe41-a7544fbf9fe9"
      },
      "execution_count": null,
      "outputs": [
        {
          "output_type": "stream",
          "name": "stdout",
          "text": [
            "Training poisoned model...\n",
            "Epoch 1, Loss 1.5212\n",
            "Epoch 2, Loss 1.1268\n",
            "Epoch 3, Loss 0.9410\n",
            "Epoch 4, Loss 0.8072\n",
            "Epoch 5, Loss 0.6840\n",
            "Epoch 6, Loss 0.5661\n",
            "Epoch 7, Loss 0.4415\n",
            "Epoch 8, Loss 0.3320\n",
            "Epoch 9, Loss 0.2352\n",
            "Epoch 10, Loss 0.1585\n",
            "Test accuracy before mitigation: 0.6495\n"
          ]
        }
      ]
    },
    {
      "cell_type": "code",
      "source": [
        "def detect_poisoned(model, loader, device=\"cuda\", frac=0.1):\n",
        "    model.eval()\n",
        "    scores, all_idx = [], []\n",
        "    criterion = nn.CrossEntropyLoss(reduction='none')\n",
        "\n",
        "    with torch.no_grad():\n",
        "        for batch_idx, (x,y) in enumerate(loader):\n",
        "            x,y = x.to(device), y.to(device)\n",
        "            out = model(x)\n",
        "\n",
        "            # Per-sample loss\n",
        "            losses = criterion(out, y).cpu().numpy()\n",
        "\n",
        "            # Entropy of predictions\n",
        "            probs = F.softmax(out,1).cpu().numpy()\n",
        "            entropy = -np.sum(probs * np.log(probs+1e-8), axis=1)\n",
        "\n",
        "            # Combined anomaly score\n",
        "            batch_scores = losses + 0.5 * entropy\n",
        "            scores.extend(batch_scores.tolist())\n",
        "\n",
        "            # Track dataset indices\n",
        "            start = batch_idx * loader.batch_size\n",
        "            all_idx.extend(range(start, start+len(y)))\n",
        "\n",
        "    scores = np.array(scores)\n",
        "    k = int(len(scores) * frac)  # flag top fraction\n",
        "    flagged = scores.argsort()[-k:]\n",
        "\n",
        "    return flagged\n",
        "\n",
        "print(\"Running Phase 1 detection...\")\n",
        "flagged = detect_poisoned(model, trainloader, device, frac=0.1)\n",
        "print(f\"Flagged {len(flagged)} suspicious samples\")\n"
      ],
      "metadata": {
        "colab": {
          "base_uri": "https://localhost:8080/"
        },
        "id": "UMNEQvdZZqpm",
        "outputId": "3fdcb644-2f93-4395-bf67-db5fcfc2fe10"
      },
      "execution_count": null,
      "outputs": [
        {
          "output_type": "stream",
          "name": "stdout",
          "text": [
            "Running Phase 1 detection...\n",
            "Flagged 5000 suspicious samples\n"
          ]
        }
      ]
    },
    {
      "cell_type": "code",
      "source": [
        "torch.save(model.state_dict(), \"phase1_trained.pth\")\n"
      ],
      "metadata": {
        "id": "TArQW-Eik0-C"
      },
      "execution_count": null,
      "outputs": []
    },
    {
      "cell_type": "code",
      "source": [
        "model = SimpleCNN()\n",
        "model.load_state_dict(torch.load(\"phase1_trained.pth\"))\n",
        "model.to(device)\n"
      ],
      "metadata": {
        "colab": {
          "base_uri": "https://localhost:8080/"
        },
        "id": "RHoU-whOly-P",
        "outputId": "c38fb666-6aa8-4834-aa1e-0dd3a054d137"
      },
      "execution_count": null,
      "outputs": [
        {
          "output_type": "execute_result",
          "data": {
            "text/plain": [
              "SimpleCNN(\n",
              "  (conv1): Conv2d(3, 32, kernel_size=(3, 3), stride=(1, 1), padding=(1, 1))\n",
              "  (conv2): Conv2d(32, 64, kernel_size=(3, 3), stride=(1, 1), padding=(1, 1))\n",
              "  (pool): MaxPool2d(kernel_size=2, stride=2, padding=0, dilation=1, ceil_mode=False)\n",
              "  (fc1): Linear(in_features=16384, out_features=256, bias=True)\n",
              "  (fc2): Linear(in_features=256, out_features=10, bias=True)\n",
              ")"
            ]
          },
          "metadata": {},
          "execution_count": 78
        }
      ]
    },
    {
      "cell_type": "code",
      "source": [
        "def unlearn_balanced(model, trainloader, flagged_idx, lr=1e-4, steps=2000, device=\"cuda\"):\n",
        "    criterion = nn.CrossEntropyLoss()\n",
        "    optimizer = optim.Adam(model.parameters(), lr=lr)\n",
        "\n",
        "    dataset = trainloader.dataset\n",
        "    flagged_set = torch.utils.data.Subset(dataset, flagged_idx)\n",
        "    clean_idx = list(set(range(len(dataset))) - set(flagged_idx))\n",
        "    clean_set = torch.utils.data.Subset(dataset, clean_idx)\n",
        "\n",
        "    flagged_loader = DataLoader(flagged_set, batch_size=64, shuffle=True)\n",
        "    clean_loader = DataLoader(clean_set, batch_size=64, shuffle=True)\n",
        "\n",
        "    flagged_iter = iter(flagged_loader)\n",
        "    clean_iter = iter(clean_loader)\n",
        "\n",
        "    model.to(device)\n",
        "    for step in range(steps):\n",
        "        # --------- Forget flagged samples ---------\n",
        "        try:\n",
        "            x, y = next(flagged_iter)\n",
        "        except StopIteration:\n",
        "            flagged_iter = iter(flagged_loader)\n",
        "            x, y = next(flagged_iter)\n",
        "        x, y = x.to(device), y.to(device)\n",
        "        optimizer.zero_grad()\n",
        "        out = model(x)\n",
        "        loss = -(0.05 * criterion(out, y))   # scaled forgetting\n",
        "        if not torch.isnan(loss):\n",
        "            loss.backward()\n",
        "            torch.nn.utils.clip_grad_norm_(model.parameters(), 1.0)\n",
        "            optimizer.step()\n",
        "\n",
        "        # --------- Stabilize with clean samples ---------\n",
        "        try:\n",
        "            x, y = next(clean_iter)\n",
        "        except StopIteration:\n",
        "            clean_iter = iter(clean_loader)\n",
        "            x, y = next(clean_iter)\n",
        "        x, y = x.to(device), y.to(device)\n",
        "        optimizer.zero_grad()\n",
        "        out = model(x)\n",
        "        loss = criterion(out, y)\n",
        "        if not torch.isnan(loss):\n",
        "            loss.backward()\n",
        "            torch.nn.utils.clip_grad_norm_(model.parameters(), 1.0)\n",
        "            optimizer.step()\n",
        "\n",
        "        if step % 100 == 0:\n",
        "            print(f\"Step {step}, Loss {loss.item():.4f}\")\n"
      ],
      "metadata": {
        "id": "qKtveDbql1p7"
      },
      "execution_count": null,
      "outputs": []
    },
    {
      "cell_type": "code",
      "source": [
        "print(\"Running Phase 2 balanced unlearning...\")\n",
        "unlearn_balanced(model, trainloader, flagged, lr=1e-6, steps=200, device=device)\n",
        "\n",
        "acc_after = evaluate(model, testloader, device)\n",
        "print(f\"Test accuracy after mitigation: {acc_after:.4f}\")\n"
      ],
      "metadata": {
        "colab": {
          "base_uri": "https://localhost:8080/"
        },
        "id": "2if6IIlIl4w4",
        "outputId": "333e8c73-b79d-4f02-ee52-e002b562e390"
      },
      "execution_count": null,
      "outputs": [
        {
          "output_type": "stream",
          "name": "stdout",
          "text": [
            "Running Phase 2 balanced unlearning...\n",
            "Step 0, Loss 0.0211\n",
            "Step 100, Loss 0.0545\n",
            "Test accuracy after mitigation: 0.6605\n"
          ]
        }
      ]
    },
    {
      "cell_type": "code",
      "source": [
        "from sklearn.metrics import precision_recall_fscore_support, confusion_matrix\n",
        "import seaborn as sns\n",
        "\n",
        "# ---- 1. Evaluate test accuracy ----\n",
        "acc_after = evaluate(model, testloader, device)\n",
        "print(f\"✅ Test accuracy after mitigation: {acc_after:.4f}\")\n",
        "\n",
        "# ---- 2. Per-class metrics ----\n",
        "y_true, y_pred = [], []\n",
        "model.eval()\n",
        "with torch.no_grad():\n",
        "    for x, y in testloader:\n",
        "        x, y = x.to(device), y.to(device)\n",
        "        preds = model(x).argmax(1)\n",
        "        y_true.extend(y.cpu().numpy())\n",
        "        y_pred.extend(preds.cpu().numpy())\n",
        "\n",
        "# Per-class precision, recall, f1\n",
        "prec, rec, f1, _ = precision_recall_fscore_support(y_true, y_pred, average=None, labels=range(10))\n",
        "print(\"\\nPer-class metrics:\")\n",
        "for i in range(10):\n",
        "    print(f\"Class {i}: Precision={prec[i]:.3f}, Recall={rec[i]:.3f}, F1={f1[i]:.3f}\")\n",
        "\n",
        "# ---- 3. Average metrics ----\n",
        "prec_avg, rec_avg, f1_avg, _ = precision_recall_fscore_support(y_true, y_pred, average=\"weighted\")\n",
        "print(f\"\\nWeighted Avg -> Precision={prec_avg:.3f}, Recall={rec_avg:.3f}, F1={f1_avg:.3f}\")\n",
        "\n",
        "# ---- 4. Confusion Matrix ----\n",
        "cm = confusion_matrix(y_true, y_pred)\n",
        "plt.figure(figsize=(8,6))\n",
        "sns.heatmap(cm, annot=True, fmt=\"d\", cmap=\"Blues\")\n",
        "plt.xlabel(\"Predicted\")\n",
        "plt.ylabel(\"True\")\n",
        "plt.title(\"Confusion Matrix after Unlearning\")\n",
        "plt.show()\n"
      ],
      "metadata": {
        "colab": {
          "base_uri": "https://localhost:8080/",
          "height": 824
        },
        "id": "3MKiAa7-l74Y",
        "outputId": "e4530dbb-b796-4581-eafd-826b976c6e51"
      },
      "execution_count": null,
      "outputs": [
        {
          "output_type": "stream",
          "name": "stdout",
          "text": [
            "✅ Test accuracy after mitigation: 0.6605\n",
            "\n",
            "Per-class metrics:\n",
            "Class 0: Precision=0.717, Recall=0.729, F1=0.723\n",
            "Class 1: Precision=0.812, Recall=0.797, F1=0.805\n",
            "Class 2: Precision=0.558, Recall=0.249, F1=0.344\n",
            "Class 3: Precision=0.502, Recall=0.510, F1=0.506\n",
            "Class 4: Precision=0.634, Recall=0.619, F1=0.627\n",
            "Class 5: Precision=0.594, Recall=0.607, F1=0.600\n",
            "Class 6: Precision=0.745, Recall=0.764, F1=0.755\n",
            "Class 7: Precision=0.498, Recall=0.745, F1=0.597\n",
            "Class 8: Precision=0.799, Recall=0.800, F1=0.800\n",
            "Class 9: Precision=0.770, Recall=0.785, F1=0.777\n",
            "\n",
            "Weighted Avg -> Precision=0.663, Recall=0.660, F1=0.653\n"
          ]
        },
        {
          "output_type": "display_data",
          "data": {
            "text/plain": [
              "<Figure size 800x600 with 2 Axes>"
            ],
            "image/png": "[encoded data removed]"
          },
          "metadata": {}
        }
      ]
    },
    {
      "cell_type": "code",
      "source": [
        "import numpy as np\n",
        "import matplotlib.pyplot as plt\n",
        "\n",
        "# Store accuracies\n",
        "acc_before = 0.6495   # from earlier cell\n",
        "acc_after = acc_after # already computed after mitigation\n",
        "\n",
        "# ---- Summary ----\n",
        "print(\"📊 Final Results Summary\")\n",
        "print(f\"Test Accuracy BEFORE mitigation: {acc_before:.4f}\")\n",
        "print(f\"Test Accuracy AFTER mitigation : {acc_after:.4f}\")\n",
        "\n",
        "# ---- Bar Plot ----\n",
        "plt.figure(figsize=(6,4))\n",
        "plt.bar([\"Before Mitigation\", \"After Mitigation\"], [acc_before, acc_after], color=[\"red\",\"green\"])\n",
        "plt.ylabel(\"Test Accuracy\")\n",
        "plt.title(\"Before vs After Unlearning\")\n",
        "plt.ylim(0,1.0)\n",
        "for i, v in enumerate([acc_before, acc_after]):\n",
        "    plt.text(i, v+0.02, f\"{v:.3f}\", ha=\"center\", fontweight=\"bold\")\n",
        "plt.show()\n"
      ],
      "metadata": {
        "colab": {
          "base_uri": "https://localhost:8080/",
          "height": 443
        },
        "id": "wc_bc7UuJYUZ",
        "outputId": "dba2c098-ff3f-41ae-87e8-3ca431f830c8"
      },
      "execution_count": null,
      "outputs": [
        {
          "output_type": "stream",
          "name": "stdout",
          "text": [
            "📊 Final Results Summary\n",
            "Test Accuracy BEFORE mitigation: 0.6495\n",
            "Test Accuracy AFTER mitigation : 0.6605\n"
          ]
        },
        {
          "output_type": "display_data",
          "data": {
            "text/plain": [
              "<Figure size 600x400 with 1 Axes>"
            ],
            "image/png": "[encoded data removed]"
          },
          "metadata": {}
        }
      ]
    },
    {
      "cell_type": "code",
      "source": [
        "import numpy as np\n",
        "import matplotlib.pyplot as plt\n",
        "\n",
        "# ---- Function to compute per-class accuracy ----\n",
        "def per_class_accuracy(model, loader, device=\"cuda\"):\n",
        "    model.eval()\n",
        "    correct = np.zeros(10)\n",
        "    total = np.zeros(10)\n",
        "    with torch.no_grad():\n",
        "        for x,y in loader:\n",
        "            x,y = x.to(device), y.to(device)\n",
        "            preds = model(x).argmax(1)\n",
        "            for label in range(10):\n",
        "                mask = (y==label)\n",
        "                correct[label] += (preds[mask]==y[mask]).sum().item()\n",
        "                total[label] += mask.sum().item()\n",
        "    return correct / total\n",
        "\n",
        "# ---- Load saved model BEFORE mitigation ----\n",
        "model_before = SimpleCNN().to(device)\n",
        "model_before.load_state_dict(torch.load(\"clean_phase1.pth\"))\n",
        "\n",
        "# Per-class accuracy before and after\n",
        "acc_per_class_before = per_class_accuracy(model_before, testloader, device)\n",
        "acc_per_class_after = per_class_accuracy(model, testloader, device)\n",
        "\n",
        "# ---- Plot comparison ----\n",
        "classes = [\"airplane\",\"automobile\",\"bird\",\"cat\",\"deer\",\n",
        "           \"dog\",\"frog\",\"horse\",\"ship\",\"truck\"]\n",
        "\n",
        "x = np.arange(len(classes))\n",
        "width = 0.35\n",
        "\n",
        "plt.figure(figsize=(12,6))\n",
        "plt.bar(x - width/2, acc_per_class_before, width, label=\"Before\", color=\"red\", alpha=0.7)\n",
        "plt.bar(x + width/2, acc_per_class_after, width, label=\"After\", color=\"green\", alpha=0.7)\n",
        "plt.xticks(x, classes, rotation=45)\n",
        "plt.ylabel(\"Accuracy\")\n",
        "plt.title(\"Per-Class Accuracy Before vs After Unlearning\")\n",
        "plt.legend()\n",
        "plt.ylim(0,1.0)\n",
        "\n",
        "# Annotate bars\n",
        "for i, v in enumerate(acc_per_class_before):\n",
        "    plt.text(i - width/2, v+0.02, f\"{v:.2f}\", ha=\"center\", fontsize=8)\n",
        "for i, v in enumerate(acc_per_class_after):\n",
        "    plt.text(i + width/2, v+0.02, f\"{v:.2f}\", ha=\"center\", fontsize=8)\n",
        "\n",
        "plt.show()\n",
        "\n",
        "# ---- Print numeric results ----\n",
        "print(\"\\n📊 Per-class accuracy:\")\n",
        "for i, c in enumerate(classes):\n",
        "    print(f\"{c:10s} | Before: {acc_per_class_before[i]:.3f} | After: {acc_per_class_after[i]:.3f}\")\n"
      ],
      "metadata": {
        "colab": {
          "base_uri": "https://localhost:8080/",
          "height": 804
        },
        "id": "5SVQp9FDJooI",
        "outputId": "b35864c7-bd60-4e11-abc5-94615066c287"
      },
      "execution_count": null,
      "outputs": [
        {
          "output_type": "display_data",
          "data": {
            "text/plain": [
              "<Figure size 1200x600 with 1 Axes>"
            ],
            "image/png": "[encoded data removed]"
          },
          "metadata": {}
        },
        {
          "output_type": "stream",
          "name": "stdout",
          "text": [
            "\n",
            "📊 Per-class accuracy:\n",
            "airplane   | Before: 1.000 | After: 0.729\n",
            "automobile | Before: 0.000 | After: 0.797\n",
            "bird       | Before: 0.000 | After: 0.249\n",
            "cat        | Before: 0.000 | After: 0.510\n",
            "deer       | Before: 0.000 | After: 0.619\n",
            "dog        | Before: 0.000 | After: 0.607\n",
            "frog       | Before: 0.000 | After: 0.764\n",
            "horse      | Before: 0.000 | After: 0.745\n",
            "ship       | Before: 0.000 | After: 0.800\n",
            "truck      | Before: 0.000 | After: 0.785\n"
          ]
        }
      ]
    },
    {
      "cell_type": "code",
      "source": [
        "# ---- Final Summary ----\n",
        "print(\"===== FINAL SUMMARY =====\")\n",
        "print(f\"Overall Test Accuracy Before: {acc_before:.4f}\")\n",
        "print(f\"Overall Test Accuracy After : {acc_after:.4f}\")\n",
        "print(\"\\nPer-class breakdown:\")\n",
        "\n",
        "for i, c in enumerate(classes):\n",
        "    print(f\"{c:10s} | Before: {acc_per_class_before[i]:.3f} | After: {acc_per_class_after[i]:.3f}\")\n",
        "\n",
        "print(\"\\n✅ Unlearning finished: poisoned bias mitigated, accuracy redistributed.\")\n"
      ],
      "metadata": {
        "colab": {
          "base_uri": "https://localhost:8080/"
        },
        "id": "h6PD5N2mJ3Ei",
        "outputId": "23740ddd-d538-4b3b-c083-994b574e952f"
      },
      "execution_count": null,
      "outputs": [
        {
          "output_type": "stream",
          "name": "stdout",
          "text": [
            "===== FINAL SUMMARY =====\n",
            "Overall Test Accuracy Before: 0.6495\n",
            "Overall Test Accuracy After : 0.6605\n",
            "\n",
            "Per-class breakdown:\n",
            "airplane   | Before: 1.000 | After: 0.729\n",
            "automobile | Before: 0.000 | After: 0.797\n",
            "bird       | Before: 0.000 | After: 0.249\n",
            "cat        | Before: 0.000 | After: 0.510\n",
            "deer       | Before: 0.000 | After: 0.619\n",
            "dog        | Before: 0.000 | After: 0.607\n",
            "frog       | Before: 0.000 | After: 0.764\n",
            "horse      | Before: 0.000 | After: 0.745\n",
            "ship       | Before: 0.000 | After: 0.800\n",
            "truck      | Before: 0.000 | After: 0.785\n",
            "\n",
            "✅ Unlearning finished: poisoned bias mitigated, accuracy redistributed.\n"
          ]
        }
      ]
    },
    {
      "cell_type": "code",
      "source": [],
      "metadata": {
        "id": "easxofvGY943"
      },
      "execution_count": null,
      "outputs": []
    },
    {
      "cell_type": "code",
      "source": [],
      "metadata": {
        "id": "Se5pIwkXZ0a2"
      },
      "execution_count": null,
      "outputs": []
    }
  ]
}