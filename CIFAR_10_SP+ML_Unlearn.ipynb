{
  "nbformat": 4,
  "nbformat_minor": 0,
  "metadata": {
    "colab": {
      "provenance": [],
      "authorship_tag": "ABX9TyO6BTObUMrhTsMDKebCN0Rw",
      "include_colab_link": true
    },
    "kernelspec": {
      "name": "python3",
      "display_name": "Python 3"
    },
    "language_info": {
      "name": "python"
    }
  },
  "cells": [
    {
      "cell_type": "markdown",
      "metadata": {
        "id": "view-in-github",
        "colab_type": "text"
      },
      "source": [
        "<a href=\"https://colab.research.google.com/github/sidharthworks/chat/blob/master/CIFAR_10_SP%2BML_Unlearn.ipynb\" target=\"_parent\"><img src=\"https://colab.research.google.com/assets/colab-badge.svg\" alt=\"Open In Colab\"/></a>"
      ]
    },
    {
      "cell_type": "code",
      "execution_count": null,
      "metadata": {
        "colab": {
          "base_uri": "https://localhost:8080/"
        },
        "id": "_kUQqMUP5G_K",
        "outputId": "0c5e4ce3-eeca-4619-8dee-46bb64b895b8"
      },
      "outputs": [
        {
          "output_type": "stream",
          "name": "stdout",
          "text": [
            "/bin/bash: line 1: nvidia-smi: command not found\n",
            "Requirement already satisfied: torch in /usr/local/lib/python3.12/dist-packages (2.8.0+cu126)\n",
            "Requirement already satisfied: torchvision in /usr/local/lib/python3.12/dist-packages (0.23.0+cu126)\n",
            "Requirement already satisfied: matplotlib in /usr/local/lib/python3.12/dist-packages (3.10.0)\n",
            "Requirement already satisfied: scikit-learn in /usr/local/lib/python3.12/dist-packages (1.6.1)\n",
            "Requirement already satisfied: filelock in /usr/local/lib/python3.12/dist-packages (from torch) (3.19.1)\n",
            "Requirement already satisfied: typing-extensions>=4.10.0 in /usr/local/lib/python3.12/dist-packages (from torch) (4.15.0)\n",
            "Requirement already satisfied: setuptools in /usr/local/lib/python3.12/dist-packages (from torch) (75.2.0)\n",
            "Requirement already satisfied: sympy>=1.13.3 in /usr/local/lib/python3.12/dist-packages (from torch) (1.13.3)\n",
            "Requirement already satisfied: networkx in /usr/local/lib/python3.12/dist-packages (from torch) (3.5)\n",
            "Requirement already satisfied: jinja2 in /usr/local/lib/python3.12/dist-packages (from torch) (3.1.6)\n",
            "Requirement already satisfied: fsspec in /usr/local/lib/python3.12/dist-packages (from torch) (2025.3.0)\n",
            "Requirement already satisfied: nvidia-cuda-nvrtc-cu12==12.6.77 in /usr/local/lib/python3.12/dist-packages (from torch) (12.6.77)\n",
            "Requirement already satisfied: nvidia-cuda-runtime-cu12==12.6.77 in /usr/local/lib/python3.12/dist-packages (from torch) (12.6.77)\n",
            "Requirement already satisfied: nvidia-cuda-cupti-cu12==12.6.80 in /usr/local/lib/python3.12/dist-packages (from torch) (12.6.80)\n",
            "Requirement already satisfied: nvidia-cudnn-cu12==9.10.2.21 in /usr/local/lib/python3.12/dist-packages (from torch) (9.10.2.21)\n",
            "Requirement already satisfied: nvidia-cublas-cu12==12.6.4.1 in /usr/local/lib/python3.12/dist-packages (from torch) (12.6.4.1)\n",
            "Requirement already satisfied: nvidia-cufft-cu12==11.3.0.4 in /usr/local/lib/python3.12/dist-packages (from torch) (11.3.0.4)\n",
            "Requirement already satisfied: nvidia-curand-cu12==10.3.7.77 in /usr/local/lib/python3.12/dist-packages (from torch) (10.3.7.77)\n",
            "Requirement already satisfied: nvidia-cusolver-cu12==11.7.1.2 in /usr/local/lib/python3.12/dist-packages (from torch) (11.7.1.2)\n",
            "Requirement already satisfied: nvidia-cusparse-cu12==12.5.4.2 in /usr/local/lib/python3.12/dist-packages (from torch) (12.5.4.2)\n",
            "Requirement already satisfied: nvidia-cusparselt-cu12==0.7.1 in /usr/local/lib/python3.12/dist-packages (from torch) (0.7.1)\n",
            "Requirement already satisfied: nvidia-nccl-cu12==2.27.3 in /usr/local/lib/python3.12/dist-packages (from torch) (2.27.3)\n",
            "Requirement already satisfied: nvidia-nvtx-cu12==12.6.77 in /usr/local/lib/python3.12/dist-packages (from torch) (12.6.77)\n",
            "Requirement already satisfied: nvidia-nvjitlink-cu12==12.6.85 in /usr/local/lib/python3.12/dist-packages (from torch) (12.6.85)\n",
            "Requirement already satisfied: nvidia-cufile-cu12==1.11.1.6 in /usr/local/lib/python3.12/dist-packages (from torch) (1.11.1.6)\n",
            "Requirement already satisfied: triton==3.4.0 in /usr/local/lib/python3.12/dist-packages (from torch) (3.4.0)\n",
            "Requirement already satisfied: numpy in /usr/local/lib/python3.12/dist-packages (from torchvision) (2.0.2)\n",
            "Requirement already satisfied: pillow!=8.3.*,>=5.3.0 in /usr/local/lib/python3.12/dist-packages (from torchvision) (11.3.0)\n",
            "Requirement already satisfied: contourpy>=1.0.1 in /usr/local/lib/python3.12/dist-packages (from matplotlib) (1.3.3)\n",
            "Requirement already satisfied: cycler>=0.10 in /usr/local/lib/python3.12/dist-packages (from matplotlib) (0.12.1)\n",
            "Requirement already satisfied: fonttools>=4.22.0 in /usr/local/lib/python3.12/dist-packages (from matplotlib) (4.59.2)\n",
            "Requirement already satisfied: kiwisolver>=1.3.1 in /usr/local/lib/python3.12/dist-packages (from matplotlib) (1.4.9)\n",
            "Requirement already satisfied: packaging>=20.0 in /usr/local/lib/python3.12/dist-packages (from matplotlib) (25.0)\n",
            "Requirement already satisfied: pyparsing>=2.3.1 in /usr/local/lib/python3.12/dist-packages (from matplotlib) (3.2.3)\n",
            "Requirement already satisfied: python-dateutil>=2.7 in /usr/local/lib/python3.12/dist-packages (from matplotlib) (2.9.0.post0)\n",
            "Requirement already satisfied: scipy>=1.6.0 in /usr/local/lib/python3.12/dist-packages (from scikit-learn) (1.16.1)\n",
            "Requirement already satisfied: joblib>=1.2.0 in /usr/local/lib/python3.12/dist-packages (from scikit-learn) (1.5.2)\n",
            "Requirement already satisfied: threadpoolctl>=3.1.0 in /usr/local/lib/python3.12/dist-packages (from scikit-learn) (3.6.0)\n",
            "Requirement already satisfied: six>=1.5 in /usr/local/lib/python3.12/dist-packages (from python-dateutil>=2.7->matplotlib) (1.17.0)\n",
            "Requirement already satisfied: mpmath<1.4,>=1.1.0 in /usr/local/lib/python3.12/dist-packages (from sympy>=1.13.3->torch) (1.3.0)\n",
            "Requirement already satisfied: MarkupSafe>=2.0 in /usr/local/lib/python3.12/dist-packages (from jinja2->torch) (3.0.2)\n"
          ]
        }
      ],
      "source": [
        "!nvidia-smi\n",
        "!pip install torch torchvision matplotlib scikit-learn\n"
      ]
    },
    {
      "cell_type": "code",
      "source": [
        "import os, pickle, random\n",
        "import numpy as np\n",
        "import torch\n",
        "import torch.nn as nn\n",
        "import torch.nn.functional as F\n",
        "import torch.optim as optim\n",
        "from torch.utils.data import Dataset, DataLoader\n",
        "import matplotlib.pyplot as plt\n",
        "from sklearn.metrics import confusion_matrix, precision_recall_fscore_support\n",
        "import seaborn as sns\n"
      ],
      "metadata": {
        "id": "pwlw3SfN5fV_"
      },
      "execution_count": null,
      "outputs": []
    },
    {
      "cell_type": "code",
      "source": [
        "# Download CIFAR-10 from Toronto site\n",
        "!wget https://www.cs.toronto.edu/~kriz/cifar-10-python.tar.gz -O cifar-10-python.tar.gz\n",
        "!tar -xvzf cifar-10-python.tar.gz\n",
        "!ls cifar-10-batches-py\n"
      ],
      "metadata": {
        "colab": {
          "base_uri": "https://localhost:8080/"
        },
        "id": "o9R4N3Zy5nWO",
        "outputId": "b3185080-79ff-4e93-b794-5cc712510f22"
      },
      "execution_count": null,
      "outputs": [
        {
          "output_type": "stream",
          "name": "stdout",
          "text": [
            "--2025-09-06 04:50:23--  https://www.cs.toronto.edu/~kriz/cifar-10-python.tar.gz\n",
            "Resolving www.cs.toronto.edu (www.cs.toronto.edu)... 128.100.3.30\n",
            "Connecting to www.cs.toronto.edu (www.cs.toronto.edu)|128.100.3.30|:443... connected.\n",
            "HTTP request sent, awaiting response... 200 OK\n",
            "Length: 170498071 (163M) [application/x-gzip]\n",
            "Saving to: ‘cifar-10-python.tar.gz’\n",
            "\n",
            "cifar-10-python.tar 100%[===================>] 162.60M  15.9MB/s    in 11s     \n",
            "\n",
            "2025-09-06 04:50:35 (14.5 MB/s) - ‘cifar-10-python.tar.gz’ saved [170498071/170498071]\n",
            "\n",
            "cifar-10-batches-py/\n",
            "cifar-10-batches-py/data_batch_4\n",
            "cifar-10-batches-py/readme.html\n",
            "cifar-10-batches-py/test_batch\n",
            "cifar-10-batches-py/data_batch_3\n",
            "cifar-10-batches-py/batches.meta\n",
            "cifar-10-batches-py/data_batch_2\n",
            "cifar-10-batches-py/data_batch_5\n",
            "cifar-10-batches-py/data_batch_1\n",
            "batches.meta  data_batch_2  data_batch_4  readme.html\n",
            "data_batch_1  data_batch_3  data_batch_5  test_batch\n"
          ]
        }
      ]
    },
    {
      "cell_type": "code",
      "source": [
        "root = \"/content/cifar-10-batches-py\"\n",
        "\n",
        "class CIFAR10Pickle(Dataset):\n",
        "    def __init__(self, root, train=True, poison_mode=None, poison_rate=0.0,\n",
        "                 flip_from=2, flip_to=7):\n",
        "        self.train = train\n",
        "        self.data, self.labels = [], []\n",
        "        files = [f\"data_batch_{i}\" for i in range(1,6)] if train else [\"test_batch\"]\n",
        "\n",
        "        for f in files:\n",
        "            with open(os.path.join(root, f), 'rb') as fo:\n",
        "                d = pickle.load(fo, encoding='bytes')\n",
        "            self.data.append(d[b'data'])\n",
        "            self.labels.extend(d[b'labels'])\n",
        "        self.data = np.vstack(self.data).reshape(-1, 3, 32, 32).astype(\"uint8\")\n",
        "        self.labels = np.array(self.labels)\n",
        "\n",
        "        self.poisoned_idx = []\n",
        "        if poison_mode == \"labelflip\":\n",
        "            n_poison = int(len(self.labels) * poison_rate)\n",
        "            candidates = np.where(self.labels == flip_from)[0]\n",
        "            selected = np.random.choice(candidates, n_poison, replace=False)\n",
        "            self.labels[selected] = flip_to\n",
        "            self.poisoned_idx = selected.tolist()\n",
        "\n",
        "    def __len__(self): return len(self.labels)\n",
        "    def __getitem__(self, idx):\n",
        "        x = self.data[idx].astype(np.float32) / 255.0\n",
        "        y = self.labels[idx]\n",
        "        return torch.tensor(x), y\n"
      ],
      "metadata": {
        "id": "aQqIr2vo5v6f"
      },
      "execution_count": null,
      "outputs": []
    },
    {
      "cell_type": "code",
      "source": [
        "class SimpleCNN(nn.Module):\n",
        "    def __init__(self):\n",
        "        super().__init__()\n",
        "        self.conv1 = nn.Conv2d(3, 32, 3, padding=1)\n",
        "        self.conv2 = nn.Conv2d(32, 64, 3, padding=1)\n",
        "        self.pool = nn.MaxPool2d(2,2)\n",
        "        self.fc1 = nn.Linear(64*16*16, 256)\n",
        "        self.fc2 = nn.Linear(256, 10)\n",
        "\n",
        "    def forward(self, x):\n",
        "        x = F.relu(self.conv1(x))\n",
        "        x = self.pool(F.relu(self.conv2(x)))\n",
        "        x = x.view(x.size(0), -1)\n",
        "        x = F.relu(self.fc1(x))\n",
        "        return self.fc2(x)\n"
      ],
      "metadata": {
        "id": "VXwYLlZS50Ho"
      },
      "execution_count": null,
      "outputs": []
    },
    {
      "cell_type": "code",
      "source": [
        "def train_model(model, loader, optimizer, epochs=10, device=\"cuda\"):\n",
        "    criterion = nn.CrossEntropyLoss()\n",
        "    model.to(device)\n",
        "    for epoch in range(epochs):\n",
        "        model.train()\n",
        "        total_loss = 0\n",
        "        for x,y in loader:\n",
        "            x,y = x.to(device), y.to(device)\n",
        "            optimizer.zero_grad()\n",
        "            out = model(x)\n",
        "            loss = criterion(out, y)\n",
        "            loss.backward()\n",
        "            optimizer.step()\n",
        "            total_loss += loss.item()\n",
        "        print(f\"Epoch {epoch+1}, Loss {total_loss/len(loader):.4f}\")\n",
        "\n",
        "def evaluate(model, loader, device=\"cuda\"):\n",
        "    model.eval()\n",
        "    correct, total = 0, 0\n",
        "    with torch.no_grad():\n",
        "        for x,y in loader:\n",
        "            x,y = x.to(device), y.to(device)\n",
        "            preds = model(x).argmax(1)\n",
        "            correct += (preds==y).sum().item()\n",
        "            total += y.size(0)\n",
        "    return correct/total\n"
      ],
      "metadata": {
        "id": "eLekLdmo53PB"
      },
      "execution_count": null,
      "outputs": []
    },
    {
      "cell_type": "code",
      "source": [
        "device = \"cuda\" if torch.cuda.is_available() else \"cpu\"\n",
        "\n",
        "trainset = CIFAR10Pickle(root, train=True, poison_mode=\"labelflip\", poison_rate=0.05, flip_from=2, flip_to=7)\n",
        "testset = CIFAR10Pickle(root, train=False)\n",
        "\n",
        "trainloader = DataLoader(trainset, batch_size=128, shuffle=True)\n",
        "testloader = DataLoader(testset, batch_size=128, shuffle=False)\n",
        "\n",
        "print(f\"Training set size: {len(trainset)}\")\n",
        "print(f\"Poisoned samples: {len(trainset.poisoned_idx)}\")\n",
        "print(f\"Test set size: {len(testset)}\")\n"
      ],
      "metadata": {
        "colab": {
          "base_uri": "https://localhost:8080/"
        },
        "id": "HS10XdJf55kL",
        "outputId": "de9119c6-f690-4607-8c46-91dd9fdd11fc"
      },
      "execution_count": null,
      "outputs": [
        {
          "output_type": "stream",
          "name": "stdout",
          "text": [
            "Training set size: 50000\n",
            "Poisoned samples: 2500\n",
            "Test set size: 10000\n"
          ]
        }
      ]
    },
    {
      "cell_type": "code",
      "source": [
        "model = SimpleCNN()\n",
        "opt = optim.Adam(model.parameters(), lr=1e-3)\n",
        "\n",
        "print(\"Training poisoned model...\")\n",
        "train_model(model, trainloader, opt, epochs=10, device=device)\n",
        "\n",
        "acc = evaluate(model, testloader, device)\n",
        "print(f\"Test accuracy before mitigation: {acc:.4f}\")\n"
      ],
      "metadata": {
        "colab": {
          "base_uri": "https://localhost:8080/"
        },
        "id": "0K9QcqdE58P5",
        "outputId": "5c3a8c6d-ef5e-46bb-c466-a4e78e11b013"
      },
      "execution_count": null,
      "outputs": [
        {
          "output_type": "stream",
          "name": "stdout",
          "text": [
            "Training poisoned model...\n",
            "Epoch 1, Loss 1.5488\n",
            "Epoch 2, Loss 1.1085\n",
            "Epoch 3, Loss 0.9314\n",
            "Epoch 4, Loss 0.7926\n",
            "Epoch 5, Loss 0.6722\n",
            "Epoch 6, Loss 0.5622\n",
            "Epoch 7, Loss 0.4493\n",
            "Epoch 8, Loss 0.3445\n",
            "Epoch 9, Loss 0.2495\n",
            "Epoch 10, Loss 0.1835\n",
            "Test accuracy before mitigation: 0.6574\n"
          ]
        }
      ]
    },
    {
      "cell_type": "code",
      "source": [
        "def detect_poisoned_SPF(model, loader, device=\"cuda\", frac=0.1):\n",
        "    \"\"\"\n",
        "    SPF = Statistical Perturbation Filtering\n",
        "    Combines per-sample loss & entropy to flag anomalous samples.\n",
        "    \"\"\"\n",
        "    model.eval()\n",
        "    scores, all_idx = [], []\n",
        "    criterion = nn.CrossEntropyLoss(reduction='none')\n",
        "\n",
        "    with torch.no_grad():\n",
        "        for batch_idx, (x,y) in enumerate(loader):\n",
        "            x,y = x.to(device), y.to(device)\n",
        "            out = model(x)\n",
        "\n",
        "            # per-sample loss\n",
        "            losses = criterion(out, y).cpu().numpy()\n",
        "\n",
        "            # entropy of predictions\n",
        "            probs = F.softmax(out,1).cpu().numpy()\n",
        "            entropy = -np.sum(probs * np.log(probs+1e-8), axis=1)\n",
        "\n",
        "            # combined anomaly score\n",
        "            batch_scores = losses + 0.5 * entropy\n",
        "            scores.extend(batch_scores.tolist())\n",
        "\n",
        "            # dataset indices\n",
        "            start = batch_idx * loader.batch_size\n",
        "            all_idx.extend(range(start, start+len(y)))\n",
        "\n",
        "    scores = np.array(scores)\n",
        "    k = int(len(scores) * frac)\n",
        "    flagged = scores.argsort()[-k:]\n",
        "    return flagged\n",
        "\n",
        "print(\"Running Phase 1 SPF detection...\")\n",
        "flagged = detect_poisoned_SPF(model, trainloader, device, frac=0.1)\n",
        "print(f\"Flagged {len(flagged)} suspicious samples\")\n"
      ],
      "metadata": {
        "id": "3Veq0xK25_jY",
        "colab": {
          "base_uri": "https://localhost:8080/"
        },
        "outputId": "ba7f429d-30ac-4c8e-da9e-df8f2176b4e3"
      },
      "execution_count": null,
      "outputs": [
        {
          "output_type": "stream",
          "name": "stdout",
          "text": [
            "Running Phase 1 SPF detection...\n",
            "Flagged 5000 suspicious samples\n"
          ]
        }
      ]
    },
    {
      "cell_type": "code",
      "source": [
        "def unlearn_balanced(model, trainloader, flagged_idx, lr=1e-4, steps=1000, device=\"cuda\"):\n",
        "    criterion = nn.CrossEntropyLoss()\n",
        "    optimizer = optim.Adam(model.parameters(), lr=lr)\n",
        "\n",
        "    dataset = trainloader.dataset\n",
        "    flagged_set = torch.utils.data.Subset(dataset, flagged_idx)\n",
        "    clean_idx = list(set(range(len(dataset))) - set(flagged_idx))\n",
        "    clean_set = torch.utils.data.Subset(dataset, clean_idx)\n",
        "\n",
        "    flagged_loader = DataLoader(flagged_set, batch_size=64, shuffle=True)\n",
        "    clean_loader = DataLoader(clean_set, batch_size=64, shuffle=True)\n",
        "\n",
        "    flagged_iter, clean_iter = iter(flagged_loader), iter(clean_loader)\n",
        "    model.to(device)\n",
        "\n",
        "    for step in range(steps):\n",
        "        # Forget flagged\n",
        "        try: x,y = next(flagged_iter)\n",
        "        except StopIteration: flagged_iter = iter(flagged_loader); x,y = next(flagged_iter)\n",
        "        x,y = x.to(device), y.to(device)\n",
        "        optimizer.zero_grad()\n",
        "        loss = -(0.05 * criterion(model(x), y))\n",
        "        loss.backward(); torch.nn.utils.clip_grad_norm_(model.parameters(), 1.0)\n",
        "        optimizer.step()\n",
        "\n",
        "        # Stabilize with clean\n",
        "        try: x,y = next(clean_iter)\n",
        "        except StopIteration: clean_iter = iter(clean_loader); x,y = next(clean_iter)\n",
        "        x,y = x.to(device), y.to(device)\n",
        "        optimizer.zero_grad()\n",
        "        loss = criterion(model(x), y)\n",
        "        loss.backward(); torch.nn.utils.clip_grad_norm_(model.parameters(), 1.0)\n",
        "        optimizer.step()\n",
        "\n",
        "        if step % 200 == 0:\n",
        "            print(f\"Step {step}, Loss {loss.item():.4f}\")\n"
      ],
      "metadata": {
        "id": "L_uqjbaTGTc5"
      },
      "execution_count": null,
      "outputs": []
    },
    {
      "cell_type": "code",
      "source": [
        "print(\"Running Phase 2 balanced unlearning...\")\n",
        "unlearn_balanced(model, trainloader, flagged, lr=1e-4, steps=1000, device=device)\n",
        "\n",
        "acc_after = evaluate(model, testloader, device)\n",
        "print(f\"Test accuracy after mitigation: {acc_after:.4f}\")\n"
      ],
      "metadata": {
        "colab": {
          "base_uri": "https://localhost:8080/"
        },
        "id": "iu4B0v0JHOng",
        "outputId": "0e4159d5-6cd1-42cc-bb7e-5c399ea7bf65"
      },
      "execution_count": null,
      "outputs": [
        {
          "output_type": "stream",
          "name": "stdout",
          "text": [
            "Running Phase 2 balanced unlearning...\n",
            "Step 0, Loss 0.2354\n",
            "Step 200, Loss 0.0946\n",
            "Step 400, Loss 0.0766\n",
            "Step 600, Loss 0.0698\n",
            "Step 800, Loss 0.0490\n",
            "Test accuracy after mitigation: 0.6566\n"
          ]
        }
      ]
    },
    {
      "cell_type": "code",
      "source": [
        "def per_class_accuracy(model, loader, device=\"cuda\"):\n",
        "    model.eval()\n",
        "    correct = {i:0 for i in range(10)}\n",
        "    total = {i:0 for i in range(10)}\n",
        "    with torch.no_grad():\n",
        "        for x,y in loader:\n",
        "            x,y = x.to(device), y.to(device)\n",
        "            preds = model(x).argmax(1)\n",
        "            for i in range(len(y)):\n",
        "                total[y[i].item()] += 1\n",
        "                if preds[i]==y[i]:\n",
        "                    correct[y[i].item()] += 1\n",
        "    return {cls: correct[cls]/total[cls] for cls in range(10)}\n",
        "\n",
        "before_accs = per_class_accuracy(model, testloader, device)\n",
        "print(\"Per-class accuracy after mitigation:\", before_accs)\n"
      ],
      "metadata": {
        "colab": {
          "base_uri": "https://localhost:8080/"
        },
        "id": "esBkiG7aHRJC",
        "outputId": "a1b1411e-c69e-41b5-8fab-de7524a9cc38"
      },
      "execution_count": null,
      "outputs": [
        {
          "output_type": "stream",
          "name": "stdout",
          "text": [
            "Per-class accuracy after mitigation: {0: 0.75, 1: 0.781, 2: 0.239, 3: 0.478, 4: 0.605, 5: 0.589, 6: 0.758, 7: 0.788, 8: 0.792, 9: 0.786}\n"
          ]
        }
      ]
    },
    {
      "cell_type": "code",
      "source": [
        "# Evaluate BEFORE mitigation (using the poisoned model before unlearning)\n",
        "poisoned_model = SimpleCNN().to(device)\n",
        "opt = optim.Adam(poisoned_model.parameters(), lr=1e-3)\n",
        "train_model(poisoned_model, trainloader, opt, epochs=10, device=device)\n",
        "before_acc = per_class_accuracy(poisoned_model, testloader, device)\n",
        "\n",
        "# Evaluate AFTER mitigation (using your healed model)\n",
        "after_acc = per_class_accuracy(model, testloader, device)\n",
        "\n",
        "# Plot\n",
        "classes = [\"airplane\",\"auto\",\"bird\",\"cat\",\"deer\",\"dog\",\"frog\",\"horse\",\"ship\",\"truck\"]\n",
        "x = np.arange(len(classes))\n",
        "\n",
        "plt.figure(figsize=(10,6))\n",
        "plt.bar(x-0.2, list(before_acc.values()), width=0.4, label=\"Before Mitigation\")\n",
        "plt.bar(x+0.2, list(after_acc.values()), width=0.4, label=\"After Mitigation\")\n",
        "plt.xticks(x, classes, rotation=45)\n",
        "plt.ylabel(\"Accuracy\")\n",
        "plt.ylim(0,1.05)\n",
        "plt.title(\"Per-Class Accuracy: Before vs After Mitigation\")\n",
        "plt.legend()\n",
        "plt.show()\n"
      ],
      "metadata": {
        "colab": {
          "base_uri": "https://localhost:8080/"
        },
        "id": "nmzWTSvjJm8z",
        "outputId": "c1b0ee26-51bf-4d35-a4cd-ff2d60b294a6"
      },
      "execution_count": null,
      "outputs": [
        {
          "output_type": "stream",
          "name": "stdout",
          "text": [
            "Epoch 1, Loss 1.4532\n",
            "Epoch 2, Loss 1.0747\n",
            "Epoch 3, Loss 0.8936\n",
            "Epoch 4, Loss 0.7551\n",
            "Epoch 5, Loss 0.6275\n",
            "Epoch 6, Loss 0.5006\n",
            "Epoch 7, Loss 0.3776\n",
            "Epoch 8, Loss 0.2637\n",
            "Epoch 9, Loss 0.1847\n",
            "Epoch 10, Loss 0.1200\n"
          ]
        },
        {
          "output_type": "display_data",
          "data": {
            "text/plain": [
              "<Figure size 1000x600 with 1 Axes>"
            ],
            "image/png": "[encoded data removed]"
          },
          "metadata": {}
        }
      ]
    },
    {
      "cell_type": "code",
      "source": [],
      "metadata": {
        "id": "QoQYffT3WW3e"
      },
      "execution_count": null,
      "outputs": []
    }
  ]
}